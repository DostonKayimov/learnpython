{
 "cells": [
  {
   "cell_type": "code",
   "execution_count": 1,
   "metadata": {},
   "outputs": [
    {
     "name": "stdout",
     "output_type": "stream",
     "text": [
      "beef (kg): 2\n",
      "Sunflower oil (kg): 1\n",
      "Onion (kg): 2\n",
      "Potatoes (kg): 7\n",
      "Tomato paste (kg): 0.5\n",
      "Salt (kg): 2\n",
      "Spices (kg): 0.3\n",
      "Russian pean (kg): 2\n",
      "Buckwheat (kg): 3\n",
      "2 \n",
      "1 \n",
      "2 \n",
      "7 \n",
      "0.5 \n",
      "2 \n",
      "0.3 \n",
      "2 \n",
      "3\n"
     ]
    }
   ],
   "source": [
    "my_shopping_list =\"{} \\n{} \\n{} \\n{} \\n{} \\n{} \\n{} \\n{} \\n{}\" # this is a weekly supply products\n",
    "\n",
    "beef = input(\"beef (kg): \")\n",
    "sunflower_oil = input(\"Sunflower oil (kg): \")\n",
    "onion = input(\"Onion (kg): \")\n",
    "potatoes = input(\"Potatoes (kg): \")\n",
    "tomato_paste = input(\"Tomato paste (kg): \")\n",
    "salt = input(\"Salt (kg): \")\n",
    "spices = input(\"Spices (kg): \")\n",
    "russian_pea = input(\"Russian pean (kg): \")\n",
    "buckwheat = input(\"Buckwheat (kg): \")\n",
    "\n",
    "print(my_shopping_list.format(beef, sunflower_oil, onion, potatoes, tomato_paste, salt, spices, russian_pea, buckwheat))"
   ]
  }
 ],
 "metadata": {
  "kernelspec": {
   "display_name": "Python 3",
   "language": "python",
   "name": "python3"
  },
  "language_info": {
   "codemirror_mode": {
    "name": "ipython",
    "version": 3
   },
   "file_extension": ".py",
   "mimetype": "text/x-python",
   "name": "python",
   "nbconvert_exporter": "python",
   "pygments_lexer": "ipython3",
   "version": "3.8.5"
  }
 },
 "nbformat": 4,
 "nbformat_minor": 4
}
